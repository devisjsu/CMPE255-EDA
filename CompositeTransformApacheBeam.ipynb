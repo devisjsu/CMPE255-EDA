{
  "nbformat": 4,
  "nbformat_minor": 0,
  "metadata": {
    "colab": {
      "provenance": [],
      "collapsed_sections": []
    },
    "kernelspec": {
      "name": "python3",
      "display_name": "Python 3"
    },
    "language_info": {
      "name": "python"
    }
  },
  "cells": [
    {
      "cell_type": "code",
      "execution_count": 2,
      "metadata": {
        "colab": {
          "base_uri": "https://localhost:8080/"
        },
        "id": "Mi8c2R095LkD",
        "outputId": "988f4253-8bb0-43c4-acfb-e54be5211c67"
      },
      "outputs": [
        {
          "output_type": "stream",
          "name": "stdout",
          "text": [
            "\u001b[33mWARNING: Ignoring invalid distribution -python (/usr/local/lib/python3.7/dist-packages)\u001b[0m\n",
            "\u001b[33mWARNING: Ignoring invalid distribution -pykernel (/usr/local/lib/python3.7/dist-packages)\u001b[0m\n",
            "\u001b[33mWARNING: Ignoring invalid distribution -python (/usr/local/lib/python3.7/dist-packages)\u001b[0m\n",
            "\u001b[33mWARNING: Ignoring invalid distribution -pykernel (/usr/local/lib/python3.7/dist-packages)\u001b[0m\n",
            "\u001b[33mWARNING: Ignoring invalid distribution -python (/usr/local/lib/python3.7/dist-packages)\u001b[0m\n",
            "\u001b[33mWARNING: Ignoring invalid distribution -pykernel (/usr/local/lib/python3.7/dist-packages)\u001b[0m\n"
          ]
        }
      ],
      "source": [
        "!pip install -q -U \\\n",
        "  tensorflow==2.0.0 \\\n",
        "  apache-beam"
      ]
    },
    {
      "cell_type": "code",
      "source": [
        "from datetime import datetime\n",
        "import os\n",
        "import pprint\n",
        "import tempfile\n",
        "import urllib\n",
        "pp = pprint.PrettyPrinter()\n",
        "\n",
        "import tensorflow as tf\n",
        "\n",
        "import apache_beam as beam\n",
        "from apache_beam import pvalue\n",
        "from apache_beam.runners.interactive.display import pipeline_graph\n",
        "import graphviz"
      ],
      "metadata": {
        "id": "iAefJ6HC5qRo"
      },
      "execution_count": 3,
      "outputs": []
    },
    {
      "cell_type": "code",
      "source": [
        "print('TensorFlow version: {}'.format(tf.__version__))\n",
        "print('Beam version: {}'.format(beam.__version__))"
      ],
      "metadata": {
        "colab": {
          "base_uri": "https://localhost:8080/"
        },
        "id": "Xi_P4pdh50Ai",
        "outputId": "28fc20cc-d530-4d4d-a482-baf1f0712870"
      },
      "execution_count": 4,
      "outputs": [
        {
          "output_type": "stream",
          "name": "stdout",
          "text": [
            "TensorFlow version: 2.0.0\n",
            "Beam version: 2.41.0\n"
          ]
        }
      ]
    },
    {
      "cell_type": "code",
      "source": [
        "pip install apache-beam[interactive]"
      ],
      "metadata": {
        "colab": {
          "base_uri": "https://localhost:8080/"
        },
        "id": "zvgKAugD6j_Y",
        "outputId": "1ac8352f-e0ce-472e-ddc4-f942bd2ac183"
      },
      "execution_count": 5,
      "outputs": [
        {
          "output_type": "stream",
          "name": "stdout",
          "text": [
            "\u001b[33mWARNING: Ignoring invalid distribution -python (/usr/local/lib/python3.7/dist-packages)\u001b[0m\n",
            "\u001b[33mWARNING: Ignoring invalid distribution -pykernel (/usr/local/lib/python3.7/dist-packages)\u001b[0m\n",
            "\u001b[33mWARNING: Ignoring invalid distribution -python (/usr/local/lib/python3.7/dist-packages)\u001b[0m\n",
            "\u001b[33mWARNING: Ignoring invalid distribution -pykernel (/usr/local/lib/python3.7/dist-packages)\u001b[0m\n",
            "Looking in indexes: https://pypi.org/simple, https://us-python.pkg.dev/colab-wheels/public/simple/\n",
            "Requirement already satisfied: apache-beam[interactive] in /usr/local/lib/python3.7/dist-packages (2.41.0)\n",
            "Requirement already satisfied: numpy<1.23.0,>=1.14.3 in /usr/local/lib/python3.7/dist-packages (from apache-beam[interactive]) (1.21.6)\n",
            "Requirement already satisfied: orjson<4.0 in /usr/local/lib/python3.7/dist-packages (from apache-beam[interactive]) (3.8.0)\n",
            "Requirement already satisfied: python-dateutil<3,>=2.8.0 in /usr/local/lib/python3.7/dist-packages (from apache-beam[interactive]) (2.8.2)\n",
            "Requirement already satisfied: proto-plus<2,>=1.7.1 in /usr/local/lib/python3.7/dist-packages (from apache-beam[interactive]) (1.22.1)\n",
            "Requirement already satisfied: pytz>=2018.3 in /usr/local/lib/python3.7/dist-packages (from apache-beam[interactive]) (2022.2.1)\n",
            "Requirement already satisfied: typing-extensions>=3.7.0 in /usr/local/lib/python3.7/dist-packages (from apache-beam[interactive]) (4.1.1)\n",
            "Requirement already satisfied: cloudpickle<3,>=2.1.0 in /usr/local/lib/python3.7/dist-packages (from apache-beam[interactive]) (2.2.0)\n",
            "Requirement already satisfied: crcmod<2.0,>=1.7 in /usr/local/lib/python3.7/dist-packages (from apache-beam[interactive]) (1.7)\n",
            "Requirement already satisfied: grpcio<2,>=1.33.1 in /usr/local/lib/python3.7/dist-packages (from apache-beam[interactive]) (1.48.1)\n",
            "Requirement already satisfied: httplib2<0.21.0,>=0.8 in /usr/local/lib/python3.7/dist-packages (from apache-beam[interactive]) (0.17.4)\n",
            "Requirement already satisfied: fastavro<2,>=0.23.6 in /usr/local/lib/python3.7/dist-packages (from apache-beam[interactive]) (1.6.1)\n",
            "Requirement already satisfied: protobuf<4,>=3.12.2 in /usr/local/lib/python3.7/dist-packages (from apache-beam[interactive]) (3.20.3)\n",
            "Requirement already satisfied: pydot<2,>=1.2.0 in /usr/local/lib/python3.7/dist-packages (from apache-beam[interactive]) (1.3.0)\n",
            "Requirement already satisfied: requests<3.0.0,>=2.24.0 in /usr/local/lib/python3.7/dist-packages (from apache-beam[interactive]) (2.28.1)\n",
            "Requirement already satisfied: pyarrow<8.0.0,>=0.15.1 in /usr/local/lib/python3.7/dist-packages (from apache-beam[interactive]) (6.0.1)\n",
            "Requirement already satisfied: hdfs<3.0.0,>=2.1.0 in /usr/local/lib/python3.7/dist-packages (from apache-beam[interactive]) (2.7.0)\n",
            "Requirement already satisfied: pymongo<4.0.0,>=3.8.0 in /usr/local/lib/python3.7/dist-packages (from apache-beam[interactive]) (3.12.3)\n",
            "Requirement already satisfied: dill<0.3.2,>=0.3.1.1 in /usr/local/lib/python3.7/dist-packages (from apache-beam[interactive]) (0.3.1.1)\n",
            "Requirement already satisfied: timeloop<2,>=1.0.2 in /usr/local/lib/python3.7/dist-packages (from apache-beam[interactive]) (1.0.2)\n",
            "Requirement already satisfied: ipython<8,>=7 in /usr/local/lib/python3.7/dist-packages (from apache-beam[interactive]) (7.34.0)\n",
            "Requirement already satisfied: ipywidgets<8,>=7.6.5 in /usr/local/lib/python3.7/dist-packages (from apache-beam[interactive]) (7.7.1)\n",
            "Requirement already satisfied: jupyter-client<6.1.13,>=6.1.11 in /usr/local/lib/python3.7/dist-packages (from apache-beam[interactive]) (6.1.12)\n",
            "Requirement already satisfied: ipykernel<7,>=6 in /usr/local/lib/python3.7/dist-packages (from apache-beam[interactive]) (6.16.0)\n",
            "Requirement already satisfied: google-cloud-dataproc<3.2.0,>=3.0.0 in /usr/local/lib/python3.7/dist-packages (from apache-beam[interactive]) (3.1.1)\n",
            "Requirement already satisfied: facets-overview<2,>=1.0.0 in /usr/local/lib/python3.7/dist-packages (from apache-beam[interactive]) (1.0.0)\n",
            "Requirement already satisfied: pandas>=0.22.0 in /usr/local/lib/python3.7/dist-packages (from facets-overview<2,>=1.0.0->apache-beam[interactive]) (1.3.5)\n",
            "Requirement already satisfied: google-api-core[grpc]<3.0.0dev,>=1.28.0 in /usr/local/lib/python3.7/dist-packages (from google-cloud-dataproc<3.2.0,>=3.0.0->apache-beam[interactive]) (1.31.6)\n",
            "Requirement already satisfied: packaging>=14.3 in /usr/local/lib/python3.7/dist-packages (from google-api-core[grpc]<3.0.0dev,>=1.28.0->google-cloud-dataproc<3.2.0,>=3.0.0->apache-beam[interactive]) (21.3)\n",
            "Requirement already satisfied: setuptools>=40.3.0 in /usr/local/lib/python3.7/dist-packages (from google-api-core[grpc]<3.0.0dev,>=1.28.0->google-cloud-dataproc<3.2.0,>=3.0.0->apache-beam[interactive]) (57.4.0)\n",
            "Requirement already satisfied: googleapis-common-protos<2.0dev,>=1.6.0 in /usr/local/lib/python3.7/dist-packages (from google-api-core[grpc]<3.0.0dev,>=1.28.0->google-cloud-dataproc<3.2.0,>=3.0.0->apache-beam[interactive]) (1.56.4)\n",
            "Requirement already satisfied: google-auth<2.0dev,>=1.25.0 in /usr/local/lib/python3.7/dist-packages (from google-api-core[grpc]<3.0.0dev,>=1.28.0->google-cloud-dataproc<3.2.0,>=3.0.0->apache-beam[interactive]) (1.35.0)\n",
            "Requirement already satisfied: six>=1.13.0 in /usr/local/lib/python3.7/dist-packages (from google-api-core[grpc]<3.0.0dev,>=1.28.0->google-cloud-dataproc<3.2.0,>=3.0.0->apache-beam[interactive]) (1.15.0)\n",
            "Requirement already satisfied: rsa<5,>=3.1.4 in /usr/local/lib/python3.7/dist-packages (from google-auth<2.0dev,>=1.25.0->google-api-core[grpc]<3.0.0dev,>=1.28.0->google-cloud-dataproc<3.2.0,>=3.0.0->apache-beam[interactive]) (4.9)\n",
            "Requirement already satisfied: pyasn1-modules>=0.2.1 in /usr/local/lib/python3.7/dist-packages (from google-auth<2.0dev,>=1.25.0->google-api-core[grpc]<3.0.0dev,>=1.28.0->google-cloud-dataproc<3.2.0,>=3.0.0->apache-beam[interactive]) (0.2.8)\n",
            "Requirement already satisfied: cachetools<5.0,>=2.0.0 in /usr/local/lib/python3.7/dist-packages (from google-auth<2.0dev,>=1.25.0->google-api-core[grpc]<3.0.0dev,>=1.28.0->google-cloud-dataproc<3.2.0,>=3.0.0->apache-beam[interactive]) (4.2.4)\n",
            "Requirement already satisfied: docopt in /usr/local/lib/python3.7/dist-packages (from hdfs<3.0.0,>=2.1.0->apache-beam[interactive]) (0.6.2)\n",
            "Requirement already satisfied: nest-asyncio in /usr/local/lib/python3.7/dist-packages (from ipykernel<7,>=6->apache-beam[interactive]) (1.5.6)\n",
            "Requirement already satisfied: matplotlib-inline>=0.1 in /usr/local/lib/python3.7/dist-packages (from ipykernel<7,>=6->apache-beam[interactive]) (0.1.6)\n",
            "Requirement already satisfied: debugpy>=1.0 in /usr/local/lib/python3.7/dist-packages (from ipykernel<7,>=6->apache-beam[interactive]) (1.0.0)\n",
            "Requirement already satisfied: tornado>=6.1 in /usr/local/lib/python3.7/dist-packages (from ipykernel<7,>=6->apache-beam[interactive]) (6.2)\n",
            "Requirement already satisfied: pyzmq>=17 in /usr/local/lib/python3.7/dist-packages (from ipykernel<7,>=6->apache-beam[interactive]) (23.2.1)\n",
            "Requirement already satisfied: psutil in /usr/local/lib/python3.7/dist-packages (from ipykernel<7,>=6->apache-beam[interactive]) (5.4.8)\n",
            "Requirement already satisfied: traitlets>=5.1.0 in /usr/local/lib/python3.7/dist-packages (from ipykernel<7,>=6->apache-beam[interactive]) (5.1.1)\n",
            "Requirement already satisfied: pexpect>4.3 in /usr/local/lib/python3.7/dist-packages (from ipython<8,>=7->apache-beam[interactive]) (4.8.0)\n",
            "Requirement already satisfied: prompt-toolkit!=3.0.0,!=3.0.1,<3.1.0,>=2.0.0 in /usr/local/lib/python3.7/dist-packages (from ipython<8,>=7->apache-beam[interactive]) (2.0.10)\n",
            "Requirement already satisfied: decorator in /usr/local/lib/python3.7/dist-packages (from ipython<8,>=7->apache-beam[interactive]) (4.4.2)\n",
            "Requirement already satisfied: pickleshare in /usr/local/lib/python3.7/dist-packages (from ipython<8,>=7->apache-beam[interactive]) (0.7.5)\n",
            "Requirement already satisfied: pygments in /usr/local/lib/python3.7/dist-packages (from ipython<8,>=7->apache-beam[interactive]) (2.6.1)\n",
            "Requirement already satisfied: backcall in /usr/local/lib/python3.7/dist-packages (from ipython<8,>=7->apache-beam[interactive]) (0.2.0)\n",
            "Requirement already satisfied: jedi>=0.16 in /usr/local/lib/python3.7/dist-packages (from ipython<8,>=7->apache-beam[interactive]) (0.18.1)\n",
            "Requirement already satisfied: widgetsnbextension~=3.6.0 in /usr/local/lib/python3.7/dist-packages (from ipywidgets<8,>=7.6.5->apache-beam[interactive]) (3.6.1)\n",
            "Requirement already satisfied: ipython-genutils~=0.2.0 in /usr/local/lib/python3.7/dist-packages (from ipywidgets<8,>=7.6.5->apache-beam[interactive]) (0.2.0)\n",
            "Requirement already satisfied: jupyterlab-widgets>=1.0.0 in /usr/local/lib/python3.7/dist-packages (from ipywidgets<8,>=7.6.5->apache-beam[interactive]) (3.0.3)\n",
            "Requirement already satisfied: parso<0.9.0,>=0.8.0 in /usr/local/lib/python3.7/dist-packages (from jedi>=0.16->ipython<8,>=7->apache-beam[interactive]) (0.8.3)\n",
            "Requirement already satisfied: jupyter-core>=4.6.0 in /usr/local/lib/python3.7/dist-packages (from jupyter-client<6.1.13,>=6.1.11->apache-beam[interactive]) (4.11.1)\n",
            "Requirement already satisfied: pyparsing!=3.0.5,>=2.0.2 in /usr/local/lib/python3.7/dist-packages (from packaging>=14.3->google-api-core[grpc]<3.0.0dev,>=1.28.0->google-cloud-dataproc<3.2.0,>=3.0.0->apache-beam[interactive]) (3.0.9)\n",
            "Requirement already satisfied: ptyprocess>=0.5 in /usr/local/lib/python3.7/dist-packages (from pexpect>4.3->ipython<8,>=7->apache-beam[interactive]) (0.7.0)\n",
            "Requirement already satisfied: wcwidth in /usr/local/lib/python3.7/dist-packages (from prompt-toolkit!=3.0.0,!=3.0.1,<3.1.0,>=2.0.0->ipython<8,>=7->apache-beam[interactive]) (0.2.5)\n",
            "Requirement already satisfied: pyasn1<0.5.0,>=0.4.6 in /usr/local/lib/python3.7/dist-packages (from pyasn1-modules>=0.2.1->google-auth<2.0dev,>=1.25.0->google-api-core[grpc]<3.0.0dev,>=1.28.0->google-cloud-dataproc<3.2.0,>=3.0.0->apache-beam[interactive]) (0.4.8)\n",
            "Requirement already satisfied: certifi>=2017.4.17 in /usr/local/lib/python3.7/dist-packages (from requests<3.0.0,>=2.24.0->apache-beam[interactive]) (2022.6.15)\n",
            "Requirement already satisfied: idna<4,>=2.5 in /usr/local/lib/python3.7/dist-packages (from requests<3.0.0,>=2.24.0->apache-beam[interactive]) (2.10)\n",
            "Requirement already satisfied: urllib3<1.27,>=1.21.1 in /usr/local/lib/python3.7/dist-packages (from requests<3.0.0,>=2.24.0->apache-beam[interactive]) (1.24.3)\n",
            "Requirement already satisfied: charset-normalizer<3,>=2 in /usr/local/lib/python3.7/dist-packages (from requests<3.0.0,>=2.24.0->apache-beam[interactive]) (2.1.1)\n",
            "Requirement already satisfied: notebook>=4.4.1 in /usr/local/lib/python3.7/dist-packages (from widgetsnbextension~=3.6.0->ipywidgets<8,>=7.6.5->apache-beam[interactive]) (5.3.1)\n",
            "Requirement already satisfied: Send2Trash in /usr/local/lib/python3.7/dist-packages (from notebook>=4.4.1->widgetsnbextension~=3.6.0->ipywidgets<8,>=7.6.5->apache-beam[interactive]) (1.8.0)\n",
            "Requirement already satisfied: terminado>=0.8.1 in /usr/local/lib/python3.7/dist-packages (from notebook>=4.4.1->widgetsnbextension~=3.6.0->ipywidgets<8,>=7.6.5->apache-beam[interactive]) (0.13.3)\n",
            "Requirement already satisfied: jinja2 in /usr/local/lib/python3.7/dist-packages (from notebook>=4.4.1->widgetsnbextension~=3.6.0->ipywidgets<8,>=7.6.5->apache-beam[interactive]) (2.11.3)\n",
            "Requirement already satisfied: nbconvert in /usr/local/lib/python3.7/dist-packages (from notebook>=4.4.1->widgetsnbextension~=3.6.0->ipywidgets<8,>=7.6.5->apache-beam[interactive]) (5.6.1)\n",
            "Requirement already satisfied: nbformat in /usr/local/lib/python3.7/dist-packages (from notebook>=4.4.1->widgetsnbextension~=3.6.0->ipywidgets<8,>=7.6.5->apache-beam[interactive]) (5.4.0)\n",
            "Requirement already satisfied: MarkupSafe>=0.23 in /usr/local/lib/python3.7/dist-packages (from jinja2->notebook>=4.4.1->widgetsnbextension~=3.6.0->ipywidgets<8,>=7.6.5->apache-beam[interactive]) (2.0.1)\n",
            "Requirement already satisfied: entrypoints>=0.2.2 in /usr/local/lib/python3.7/dist-packages (from nbconvert->notebook>=4.4.1->widgetsnbextension~=3.6.0->ipywidgets<8,>=7.6.5->apache-beam[interactive]) (0.4)\n",
            "Requirement already satisfied: bleach in /usr/local/lib/python3.7/dist-packages (from nbconvert->notebook>=4.4.1->widgetsnbextension~=3.6.0->ipywidgets<8,>=7.6.5->apache-beam[interactive]) (5.0.1)\n",
            "Requirement already satisfied: mistune<2,>=0.8.1 in /usr/local/lib/python3.7/dist-packages (from nbconvert->notebook>=4.4.1->widgetsnbextension~=3.6.0->ipywidgets<8,>=7.6.5->apache-beam[interactive]) (0.8.4)\n",
            "Requirement already satisfied: pandocfilters>=1.4.1 in /usr/local/lib/python3.7/dist-packages (from nbconvert->notebook>=4.4.1->widgetsnbextension~=3.6.0->ipywidgets<8,>=7.6.5->apache-beam[interactive]) (1.5.0)\n",
            "Requirement already satisfied: testpath in /usr/local/lib/python3.7/dist-packages (from nbconvert->notebook>=4.4.1->widgetsnbextension~=3.6.0->ipywidgets<8,>=7.6.5->apache-beam[interactive]) (0.6.0)\n",
            "Requirement already satisfied: defusedxml in /usr/local/lib/python3.7/dist-packages (from nbconvert->notebook>=4.4.1->widgetsnbextension~=3.6.0->ipywidgets<8,>=7.6.5->apache-beam[interactive]) (0.7.1)\n",
            "Requirement already satisfied: fastjsonschema in /usr/local/lib/python3.7/dist-packages (from nbformat->notebook>=4.4.1->widgetsnbextension~=3.6.0->ipywidgets<8,>=7.6.5->apache-beam[interactive]) (2.16.1)\n",
            "Requirement already satisfied: jsonschema>=2.6 in /usr/local/lib/python3.7/dist-packages (from nbformat->notebook>=4.4.1->widgetsnbextension~=3.6.0->ipywidgets<8,>=7.6.5->apache-beam[interactive]) (4.3.3)\n",
            "Requirement already satisfied: attrs>=17.4.0 in /usr/local/lib/python3.7/dist-packages (from jsonschema>=2.6->nbformat->notebook>=4.4.1->widgetsnbextension~=3.6.0->ipywidgets<8,>=7.6.5->apache-beam[interactive]) (22.1.0)\n",
            "Requirement already satisfied: pyrsistent!=0.17.0,!=0.17.1,!=0.17.2,>=0.14.0 in /usr/local/lib/python3.7/dist-packages (from jsonschema>=2.6->nbformat->notebook>=4.4.1->widgetsnbextension~=3.6.0->ipywidgets<8,>=7.6.5->apache-beam[interactive]) (0.18.1)\n",
            "Requirement already satisfied: importlib-metadata in /usr/local/lib/python3.7/dist-packages (from jsonschema>=2.6->nbformat->notebook>=4.4.1->widgetsnbextension~=3.6.0->ipywidgets<8,>=7.6.5->apache-beam[interactive]) (4.12.0)\n",
            "Requirement already satisfied: importlib-resources>=1.4.0 in /usr/local/lib/python3.7/dist-packages (from jsonschema>=2.6->nbformat->notebook>=4.4.1->widgetsnbextension~=3.6.0->ipywidgets<8,>=7.6.5->apache-beam[interactive]) (5.9.0)\n",
            "Requirement already satisfied: zipp>=3.1.0 in /usr/local/lib/python3.7/dist-packages (from importlib-resources>=1.4.0->jsonschema>=2.6->nbformat->notebook>=4.4.1->widgetsnbextension~=3.6.0->ipywidgets<8,>=7.6.5->apache-beam[interactive]) (3.8.1)\n",
            "Requirement already satisfied: webencodings in /usr/local/lib/python3.7/dist-packages (from bleach->nbconvert->notebook>=4.4.1->widgetsnbextension~=3.6.0->ipywidgets<8,>=7.6.5->apache-beam[interactive]) (0.5.1)\n",
            "\u001b[33mWARNING: Ignoring invalid distribution -python (/usr/local/lib/python3.7/dist-packages)\u001b[0m\n",
            "\u001b[33mWARNING: Ignoring invalid distribution -pykernel (/usr/local/lib/python3.7/dist-packages)\u001b[0m\n"
          ]
        }
      ]
    },
    {
      "cell_type": "code",
      "source": [
        "first_pipeline = beam.Pipeline()\n",
        "\n",
        "lines = (first_pipeline\n",
        "         | \"Create\" >> beam.Create([\"Hello\", \"World\", \"!!!\"]) # PCollection\n",
        "         | \"Print\" >> beam.ParDo(print)) # ParDo transform\n",
        "\n",
        "result = first_pipeline.run()\n",
        "result.state"
      ],
      "metadata": {
        "colab": {
          "base_uri": "https://localhost:8080/",
          "height": 88
        },
        "id": "8mkT8BFX7JR0",
        "outputId": "6d2038e5-fce6-4aa9-bbc4-b07709e7beb7"
      },
      "execution_count": 9,
      "outputs": [
        {
          "output_type": "stream",
          "name": "stdout",
          "text": [
            "Hello\n",
            "World\n",
            "!!!\n"
          ]
        },
        {
          "output_type": "execute_result",
          "data": {
            "text/plain": [
              "'DONE'"
            ],
            "application/vnd.google.colaboratory.intrinsic+json": {
              "type": "string"
            }
          },
          "metadata": {},
          "execution_count": 9
        }
      ]
    },
    {
      "cell_type": "code",
      "source": [
        "def display_pipeline(pipeline):\n",
        "  graph = pipeline_graph.PipelineGraph(pipeline)\n",
        "  return graphviz.Source(graph.get_dot())\n",
        "\n",
        "display_pipeline(first_pipeline)"
      ],
      "metadata": {
        "colab": {
          "base_uri": "https://localhost:8080/",
          "height": 411
        },
        "id": "EIuk9UGz7EMB",
        "outputId": "ca06c9f2-0dd3-466b-e053-884f0f247f6e"
      },
      "execution_count": 10,
      "outputs": [
        {
          "output_type": "stream",
          "name": "stdout",
          "text": [
            "/usr/bin/dot\n"
          ]
        },
        {
          "output_type": "execute_result",
          "data": {
            "text/plain": [
              "<graphviz.files.Source at 0x7f41435ab790>"
            ],
            "image/svg+xml": "<?xml version=\"1.0\" encoding=\"UTF-8\" standalone=\"no\"?>\n<!DOCTYPE svg PUBLIC \"-//W3C//DTD SVG 1.1//EN\"\n \"http://www.w3.org/Graphics/SVG/1.1/DTD/svg11.dtd\">\n<!-- Generated by graphviz version 2.40.1 (20161225.0304)\n -->\n<!-- Title: G Pages: 1 -->\n<svg width=\"85pt\" height=\"280pt\"\n viewBox=\"0.00 0.00 85.00 279.90\" xmlns=\"http://www.w3.org/2000/svg\" xmlns:xlink=\"http://www.w3.org/1999/xlink\">\n<g id=\"graph0\" class=\"graph\" transform=\"scale(1 1) rotate(0) translate(4 275.895)\">\n<title>G</title>\n<polygon fill=\"#ffffff\" stroke=\"transparent\" points=\"-4,4 -4,-275.895 81,-275.895 81,4 -4,4\"/>\n<!-- [9]: Create -->\n<g id=\"node1\" class=\"node\">\n<title>[9]: Create</title>\n<polygon fill=\"none\" stroke=\"#0000ff\" points=\"77,-271.895 0,-271.895 0,-235.895 77,-235.895 77,-271.895\"/>\n<text text-anchor=\"middle\" x=\"38.5\" y=\"-250.195\" font-family=\"Times,serif\" font-size=\"14.00\" fill=\"#0000ff\">[9]: Create</text>\n</g>\n<!-- pcoll8029 -->\n<g id=\"node2\" class=\"node\">\n<title>pcoll8029</title>\n<ellipse fill=\"none\" stroke=\"#0000ff\" cx=\"38.5\" cy=\"-181.895\" rx=\"18\" ry=\"18\"/>\n</g>\n<!-- [9]: Create&#45;&gt;pcoll8029 -->\n<g id=\"edge1\" class=\"edge\">\n<title>[9]: Create&#45;&gt;pcoll8029</title>\n<path fill=\"none\" stroke=\"#000000\" d=\"M38.5,-235.7264C38.5,-228.026 38.5,-218.8694 38.5,-210.3117\"/>\n<polygon fill=\"#000000\" stroke=\"#000000\" points=\"42.0001,-210.3083 38.5,-200.3083 35.0001,-210.3083 42.0001,-210.3083\"/>\n</g>\n<!-- [9]: Print -->\n<g id=\"node3\" class=\"node\">\n<title>[9]: Print</title>\n<polygon fill=\"none\" stroke=\"#0000ff\" points=\"72.5,-127.895 4.5,-127.895 4.5,-91.895 72.5,-91.895 72.5,-127.895\"/>\n<text text-anchor=\"middle\" x=\"38.5\" y=\"-106.195\" font-family=\"Times,serif\" font-size=\"14.00\" fill=\"#0000ff\">[9]: Print</text>\n</g>\n<!-- pcoll8029&#45;&gt;[9]: Print -->\n<g id=\"edge2\" class=\"edge\">\n<title>pcoll8029&#45;&gt;[9]: Print</title>\n<path fill=\"none\" stroke=\"#000000\" d=\"M38.5,-163.7264C38.5,-156.026 38.5,-146.8694 38.5,-138.3117\"/>\n<polygon fill=\"#000000\" stroke=\"#000000\" points=\"42.0001,-138.3083 38.5,-128.3083 35.0001,-138.3083 42.0001,-138.3083\"/>\n</g>\n<!-- lines -->\n<g id=\"node4\" class=\"node\">\n<title>lines</title>\n<ellipse fill=\"none\" stroke=\"#0000ff\" cx=\"38.5\" cy=\"-27.9475\" rx=\"27.8951\" ry=\"27.8951\"/>\n<text text-anchor=\"middle\" x=\"38.5\" y=\"-24.2475\" font-family=\"Times,serif\" font-size=\"14.00\" fill=\"#0000ff\">lines</text>\n</g>\n<!-- [9]: Print&#45;&gt;lines -->\n<g id=\"edge3\" class=\"edge\">\n<title>[9]: Print&#45;&gt;lines</title>\n<path fill=\"none\" stroke=\"#000000\" d=\"M38.5,-91.7082C38.5,-84.1844 38.5,-75.1574 38.5,-66.295\"/>\n<polygon fill=\"#000000\" stroke=\"#000000\" points=\"42.0001,-66.0668 38.5,-56.0668 35.0001,-66.0668 42.0001,-66.0668\"/>\n</g>\n</g>\n</svg>\n"
          },
          "metadata": {},
          "execution_count": 10
        }
      ]
    },
    {
      "cell_type": "code",
      "source": [
        "class ExtractAndMultiplyNumbers(beam.PTransform):\n",
        "    def expand(self, pcollection):\n",
        "        return (pcollection\n",
        "            | beam.FlatMap(lambda line: line.split(\",\"))\n",
        "            | beam.Map(lambda num: int(num) * 10))\n",
        "\n",
        "with beam.Pipeline() as composite_pipeline:\n",
        "  lines = (composite_pipeline\n",
        "           | beam.Create(['1,2,3,4,5', '6,7,8,9,10'])\n",
        "           | ExtractAndMultiplyNumbers()\n",
        "           | beam.ParDo(print))\n",
        "\n",
        "display_pipeline(composite_pipeline)"
      ],
      "metadata": {
        "colab": {
          "base_uri": "https://localhost:8080/",
          "height": 773
        },
        "id": "wOcAOdC96WeT",
        "outputId": "0a1d9d8f-9aba-4bff-ea15-af44fdd3b9f9"
      },
      "execution_count": 11,
      "outputs": [
        {
          "output_type": "stream",
          "name": "stdout",
          "text": [
            "10\n",
            "20\n",
            "30\n",
            "40\n",
            "50\n",
            "60\n",
            "70\n",
            "80\n",
            "90\n",
            "100\n",
            "/usr/bin/dot\n"
          ]
        },
        {
          "output_type": "execute_result",
          "data": {
            "text/plain": [
              "<graphviz.files.Source at 0x7f41434417d0>"
            ],
            "image/svg+xml": "<?xml version=\"1.0\" encoding=\"UTF-8\" standalone=\"no\"?>\n<!DOCTYPE svg PUBLIC \"-//W3C//DTD SVG 1.1//EN\"\n \"http://www.w3.org/Graphics/SVG/1.1/DTD/svg11.dtd\">\n<!-- Generated by graphviz version 2.40.1 (20161225.0304)\n -->\n<!-- Title: G Pages: 1 -->\n<svg width=\"230pt\" height=\"424pt\"\n viewBox=\"0.00 0.00 230.00 423.90\" xmlns=\"http://www.w3.org/2000/svg\" xmlns:xlink=\"http://www.w3.org/1999/xlink\">\n<g id=\"graph0\" class=\"graph\" transform=\"scale(1 1) rotate(0) translate(4 419.895)\">\n<title>G</title>\n<polygon fill=\"#ffffff\" stroke=\"transparent\" points=\"-4,4 -4,-419.895 226,-419.895 226,4 -4,4\"/>\n<!-- [11]: Create -->\n<g id=\"node1\" class=\"node\">\n<title>[11]: Create</title>\n<polygon fill=\"none\" stroke=\"#0000ff\" points=\"152.5,-415.895 69.5,-415.895 69.5,-379.895 152.5,-379.895 152.5,-415.895\"/>\n<text text-anchor=\"middle\" x=\"111\" y=\"-394.195\" font-family=\"Times,serif\" font-size=\"14.00\" fill=\"#0000ff\">[11]: Create</text>\n</g>\n<!-- pcoll8029 -->\n<g id=\"node2\" class=\"node\">\n<title>pcoll8029</title>\n<ellipse fill=\"none\" stroke=\"#0000ff\" cx=\"111\" cy=\"-325.895\" rx=\"18\" ry=\"18\"/>\n</g>\n<!-- [11]: Create&#45;&gt;pcoll8029 -->\n<g id=\"edge1\" class=\"edge\">\n<title>[11]: Create&#45;&gt;pcoll8029</title>\n<path fill=\"none\" stroke=\"#000000\" d=\"M111,-379.7264C111,-372.026 111,-362.8694 111,-354.3117\"/>\n<polygon fill=\"#000000\" stroke=\"#000000\" points=\"114.5001,-354.3083 111,-344.3083 107.5001,-354.3083 114.5001,-354.3083\"/>\n</g>\n<!-- [11]: ExtractAndMultiplyNumbers -->\n<g id=\"node3\" class=\"node\">\n<title>[11]: ExtractAndMultiplyNumbers</title>\n<polygon fill=\"none\" stroke=\"#0000ff\" points=\"219,-271.895 3,-271.895 3,-235.895 219,-235.895 219,-271.895\"/>\n<text text-anchor=\"middle\" x=\"111\" y=\"-250.195\" font-family=\"Times,serif\" font-size=\"14.00\" fill=\"#0000ff\">[11]: ExtractAndMultiplyNumbers</text>\n</g>\n<!-- pcoll8029&#45;&gt;[11]: ExtractAndMultiplyNumbers -->\n<g id=\"edge2\" class=\"edge\">\n<title>pcoll8029&#45;&gt;[11]: ExtractAndMultiplyNumbers</title>\n<path fill=\"none\" stroke=\"#000000\" d=\"M111,-307.7264C111,-300.026 111,-290.8694 111,-282.3117\"/>\n<polygon fill=\"#000000\" stroke=\"#000000\" points=\"114.5001,-282.3083 111,-272.3083 107.5001,-282.3083 114.5001,-282.3083\"/>\n</g>\n<!-- pcoll3344 -->\n<g id=\"node4\" class=\"node\">\n<title>pcoll3344</title>\n<ellipse fill=\"none\" stroke=\"#0000ff\" cx=\"111\" cy=\"-181.895\" rx=\"18\" ry=\"18\"/>\n</g>\n<!-- [11]: ExtractAndMultiplyNumbers&#45;&gt;pcoll3344 -->\n<g id=\"edge3\" class=\"edge\">\n<title>[11]: ExtractAndMultiplyNumbers&#45;&gt;pcoll3344</title>\n<path fill=\"none\" stroke=\"#000000\" d=\"M111,-235.7264C111,-228.026 111,-218.8694 111,-210.3117\"/>\n<polygon fill=\"#000000\" stroke=\"#000000\" points=\"114.5001,-210.3083 111,-200.3083 107.5001,-210.3083 114.5001,-210.3083\"/>\n</g>\n<!-- [11]: ParDo(CallableWrapperDoFn) -->\n<g id=\"node5\" class=\"node\">\n<title>[11]: ParDo(CallableWrapperDoFn)</title>\n<polygon fill=\"none\" stroke=\"#0000ff\" points=\"222,-127.895 0,-127.895 0,-91.895 222,-91.895 222,-127.895\"/>\n<text text-anchor=\"middle\" x=\"111\" y=\"-106.195\" font-family=\"Times,serif\" font-size=\"14.00\" fill=\"#0000ff\">[11]: ParDo(CallableWrapperDoFn)</text>\n</g>\n<!-- pcoll3344&#45;&gt;[11]: ParDo(CallableWrapperDoFn) -->\n<g id=\"edge4\" class=\"edge\">\n<title>pcoll3344&#45;&gt;[11]: ParDo(CallableWrapperDoFn)</title>\n<path fill=\"none\" stroke=\"#000000\" d=\"M111,-163.7264C111,-156.026 111,-146.8694 111,-138.3117\"/>\n<polygon fill=\"#000000\" stroke=\"#000000\" points=\"114.5001,-138.3083 111,-128.3083 107.5001,-138.3083 114.5001,-138.3083\"/>\n</g>\n<!-- lines -->\n<g id=\"node6\" class=\"node\">\n<title>lines</title>\n<ellipse fill=\"none\" stroke=\"#0000ff\" cx=\"111\" cy=\"-27.9475\" rx=\"27.8951\" ry=\"27.8951\"/>\n<text text-anchor=\"middle\" x=\"111\" y=\"-24.2475\" font-family=\"Times,serif\" font-size=\"14.00\" fill=\"#0000ff\">lines</text>\n</g>\n<!-- [11]: ParDo(CallableWrapperDoFn)&#45;&gt;lines -->\n<g id=\"edge5\" class=\"edge\">\n<title>[11]: ParDo(CallableWrapperDoFn)&#45;&gt;lines</title>\n<path fill=\"none\" stroke=\"#000000\" d=\"M111,-91.7082C111,-84.1844 111,-75.1574 111,-66.295\"/>\n<polygon fill=\"#000000\" stroke=\"#000000\" points=\"114.5001,-66.0668 111,-56.0668 107.5001,-66.0668 114.5001,-66.0668\"/>\n</g>\n</g>\n</svg>\n"
          },
          "metadata": {},
          "execution_count": 11
        }
      ]
    },
    {
      "cell_type": "code",
      "source": [
        "import apache_beam as beam\n",
        "\n",
        "class CustomTransform(beam.PTransform):\n",
        "  \n",
        "  def expand(self, input_coll):\n",
        "    \n",
        "    a = ( \n",
        "        input_coll\n",
        "                       | 'Combine' >> beam.CombinePerKey(sum)\n",
        "                       | 'count' >> beam.Filter(filter_on_count)\n",
        "                       | 'output' >> beam.Map(format_output)\n",
        "              \n",
        "    )\n",
        "    return a\n"
      ],
      "metadata": {
        "id": "Pb9roAkd-kvE"
      },
      "execution_count": 21,
      "outputs": []
    },
    {
      "cell_type": "code",
      "source": [
        "def SplitRow(element):\n",
        "    return element.split(',')"
      ],
      "metadata": {
        "id": "IqFOuaMQ-3iK"
      },
      "execution_count": 14,
      "outputs": []
    },
    {
      "cell_type": "code",
      "source": [
        "def filter_on_count(element):\n",
        "  name, count = element\n",
        "  if count > 1:\n",
        "    return element"
      ],
      "metadata": {
        "id": "z5kfqpfa-87f"
      },
      "execution_count": 15,
      "outputs": []
    },
    {
      "cell_type": "code",
      "source": [
        "def format_output(element):\n",
        "  name, count = element\n",
        "  \n",
        "  return ', '.join((name,str(count),'title'))\n",
        "\n",
        "p = beam.Pipeline()"
      ],
      "metadata": {
        "id": "x_0PqX2S_Ar2"
      },
      "execution_count": 18,
      "outputs": []
    },
    {
      "cell_type": "code",
      "source": [
        "input_collection = ( \n",
        "                      p \n",
        "                      | \"Read from text file\" >> beam.io.ReadFromText('netflix1.txt')\n",
        "                      | \"Split rows\" >> beam.Map(SplitRow)\n",
        "                   )"
      ],
      "metadata": {
        "id": "xNyDb-XD_In_"
      },
      "execution_count": 17,
      "outputs": []
    },
    {
      "cell_type": "code",
      "source": [
        "cardio_count = (\n",
        "                      input_collection\n",
        "                      | 'Title' >> beam.Filter(lambda record: record[3] == 'title')\n",
        "                      | 'Shows' >> beam.Map(lambda record: (\"Shows, \" +record[1], 1))\n",
        "                      | 'Movies' >> CustomTransform()\n",
        "                      | 'output' >> beam.io.WriteToText('netflix.txt')\n",
        "                 )"
      ],
      "metadata": {
        "id": "LBtYUjCU_OzU"
      },
      "execution_count": 19,
      "outputs": []
    },
    {
      "cell_type": "code",
      "source": [
        "p.run()"
      ],
      "metadata": {
        "colab": {
          "base_uri": "https://localhost:8080/"
        },
        "id": "-ilNBKnq_2aG",
        "outputId": "c6c6af1e-f861-4f9c-90d9-a945023673b2"
      },
      "execution_count": 20,
      "outputs": [
        {
          "output_type": "execute_result",
          "data": {
            "text/plain": [
              "<apache_beam.runners.portability.fn_api_runner.fn_runner.RunnerResult at 0x7f4143390ed0>"
            ]
          },
          "metadata": {},
          "execution_count": 20
        }
      ]
    },
    {
      "cell_type": "code",
      "source": [],
      "metadata": {
        "id": "ejz2m_P4-43U"
      },
      "execution_count": null,
      "outputs": []
    }
  ]
}